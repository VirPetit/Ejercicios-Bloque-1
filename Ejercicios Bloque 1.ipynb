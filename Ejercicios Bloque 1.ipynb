{
 "cells": [
  {
   "cell_type": "code",
   "execution_count": 4,
   "metadata": {
    "collapsed": false,
    "scrolled": false
   },
   "outputs": [
    {
     "name": "stdout",
     "output_type": "stream",
     "text": [
      "[1, 3, 5, 7]\n",
      "[2, 4, 6, 8]\n"
     ]
    }
   ],
   "source": [
    "###Tipos de datos\n",
    "##Definir una función que devuelva los números pares de una lista que se pasa como parámetro. Implementar dos versiones, una que utilice list comprehensions y otra no.\n",
    "\n",
    "lista = [1, 2, 3, 4, 5, 6, 7, 8]\n",
    "\n",
    "#Con list Comprehesion:\n",
    "\n",
    "nopares = [x for x in  lista if x % 2 != 0]\n",
    "\n",
    "print(nopares)\n",
    "\n",
    "#Con filter:\n",
    "\n",
    "pares= list(filter(lambda x: x % 2==0, lista))\n",
    "\n",
    "print(pares)\n"
   ]
  },
  {
   "cell_type": "code",
   "execution_count": 23,
   "metadata": {
    "collapsed": false
   },
   "outputs": [
    {
     "name": "stdout",
     "output_type": "stream",
     "text": [
      "True\n"
     ]
    }
   ],
   "source": [
    "##Definir una función que nos indique si dos números reales son aproximadamente iguales, con un parámetro opcional que indica la precisión que queremos en la comparación.\n",
    "\n",
    "def funcion_nreales (nreal1, nreal2, precisión):\n",
    "    return( nreal1-nreal2) <= precisión\n",
    "print(funcion_nreales(2, 2.05, 0.05))\n",
    "      \n",
    " "
   ]
  },
  {
   "cell_type": "code",
   "execution_count": 94,
   "metadata": {
    "collapsed": false
   },
   "outputs": [
    {
     "data": {
      "text/plain": [
       "100"
      ]
     },
     "execution_count": 94,
     "metadata": {},
     "output_type": "execute_result"
    }
   ],
   "source": [
    "##Utilizando reduce, definir una función que calcule el máximo elemento de una lista.\n",
    "import functools\n",
    "l=[1,4,30,100,5,8,40]\n",
    "reduce(lambda x, y: x if x>y else y, l)\n"
   ]
  },
  {
   "cell_type": "code",
   "execution_count": 50,
   "metadata": {
    "collapsed": false
   },
   "outputs": [
    {
     "data": {
      "text/plain": [
       "'mu#oz'"
      ]
     },
     "execution_count": 50,
     "metadata": {},
     "output_type": "execute_result"
    }
   ],
   "source": [
    "##Investigar la función decode y definir una función que dada una cadena sustituya con el carácter “#” las ocurrencias de caracteres que no son ASCII.\n",
    "#lo que ocurre es que una cadena se descodifica o se traduce de su formato original a Unicode con decode() para que Python lo procese, y después se codifica o se traduce a un formato más compacto con encode().\n",
    "#A todos los caracteres de Unicode les corresponde un número, parecido a un índice. Python dispone de un par de métodos para traducir entre un carácter y su número, ejemplificado abajo con #:\n",
    "apellido='muñoz'\n",
    "a=apellido.encode('cp1252')\n",
    "a#b'mu\\xf1oz'\n",
    "a.decode('utf-8','replace')\n",
    "#'mu�oz'\n",
    "buscar='�'\n",
    "reemplazar='#'\n",
    "ap='mu�oz'\n",
    "ap.replace(buscar,reemplazar)\n"
   ]
  },
  {
   "cell_type": "code",
   "execution_count": 51,
   "metadata": {
    "collapsed": false
   },
   "outputs": [
    {
     "name": "stdout",
     "output_type": "stream",
     "text": [
      "['m', 'u', '#', '#', 'o', 'z']\n"
     ]
    }
   ],
   "source": [
    "#otra forma\n",
    "apellido='muñoz'\n",
    "a=apellido.encode('utf8')\n",
    "a\n",
    "ap=a.decode (\"ASCII\",\"replace\")\n",
    "#'mu��oz'\n",
    "apellidos=[x for x in ap.replace('�','#')]\n",
    "print(apellidos)"
   ]
  },
  {
   "cell_type": "code",
   "execution_count": 57,
   "metadata": {
    "collapsed": false
   },
   "outputs": [
    {
     "name": "stdout",
     "output_type": "stream",
     "text": [
      "[1, 2, 3, 4, 5, 6, 7, 8, 9, 10]\n",
      "[1, 4, 9, 16, 25, 36, 49, 64, 81, 100]\n",
      "<map object at 0x0000020F9B339A58>\n",
      "55\n",
      "9\n",
      "5.5\n",
      "5.5\n"
     ]
    }
   ],
   "source": [
    "##Utilizando map y reduce hacer un programa que tome una lista y le aplique de manera aleatoria una de entre\n",
    "## varias funciones a cada uno de sus elementos, y que después aleatoriamente obtenga bien la media o la mediana de los elementos de la lista.\n",
    "##Utilizad el módulo statistics.\n",
    "\n",
    "import random #para realizar selecciones al azar\n",
    "import statistics #módulo statistics calcula propiedades de estadística básica (la media, mediana, varianza, etc) de datos númericos\n",
    "import functools # reduce y map\n",
    "import math\n",
    "\n",
    "#creamos una lista de números del 1 al 10\n",
    "items = list(range(1, 11))\n",
    "print(items)\n",
    "\n",
    "#creamos una lista de los cuadrados de la lista items.\n",
    "#forma imperativa.\n",
    "cuadradosi = []\n",
    "for i in items:\n",
    "    cuadradosi.append(i ** 2)\n",
    "print(cuadradosi)\n",
    "\n",
    "#Cuadrados utilizando Map.ESTE PASO NO ME HA SALIDO Y NO SÉ BIEN PORQUE...\n",
    "#forma funcional\n",
    "items1=str(random.choice(items))\n",
    "cuadradosf = map(lambda x: x**2,items1)\n",
    "print(cuadradosf)\n",
    "\n",
    "#Sumando los valores de la lista items.\n",
    "#forma imperativa\n",
    "sumai = 0\n",
    "for i in items:\n",
    "    sumai += i\n",
    "print(sumai)\n",
    "\n",
    "#Suma utilizando Reduce.\n",
    "#Forma funcional\n",
    "\n",
    "sumaf = reduce(lambda x, y: x + y, items1)\n",
    "print(sumaf)\n",
    "\n",
    "media=statistics.mean(items)\n",
    "print(media)\n",
    "mediana=statistics.median(items)\n",
    "print(mediana)\n",
    "\n",
    "#Referencia:http://relopezbriega.github.io/blog/2015/02/01/programacion-funcional-con-python/"
   ]
  },
  {
   "cell_type": "code",
   "execution_count": 58,
   "metadata": {
    "collapsed": false
   },
   "outputs": [],
   "source": [
    "#LENGUAJES IMPERATIVOS:\n",
    "#Ventajas:\n",
    "\n",
    "#Uno puede ver que es lo que está haciendo la maquina en una linea específica\n",
    "#Permite el debug en partes específicas de código\n",
    "#Define objetos\n",
    "#Posee variables\n",
    "\n",
    "#Desventajas:\n",
    "\n",
    "#El código suele ser largo\n",
    "#Escalabilidad pobre\n",
    "#Dificultad para hacerlo multitarea\n",
    "\n",
    "#LENGUAJES FUNCIONALES\n",
    "\n",
    "#Ventajas\n",
    "\n",
    "#Evita efectos colaterales en memoria y en Entrada/Salida (I/O)\n",
    "#El código suele ser más corto\n",
    "#Es escalable\n",
    "#Utilizan funciones de alto orden\n",
    "#Desventajas\n",
    "\n",
    "#Los cálculos simples son lentos\n",
    "#Puede costar entender el código a simple vista\n",
    "#Tienen una curva de aprendizaje lenta\n",
    "\n",
    "#Referencia:http://bandageek.com/2016/04/programacion-funcional-vs-programacion-imperativa/\n"
   ]
  },
  {
   "cell_type": "code",
   "execution_count": 101,
   "metadata": {
    "collapsed": false
   },
   "outputs": [
    {
     "name": "stdout",
     "output_type": "stream",
     "text": [
      "['😀', '😁']\n"
     ]
    }
   ],
   "source": [
    "##Definir y probar una expresión regular para detectar algunos emoticonos en una cadena de caracteres.\n",
    "import re\n",
    "\n",
    "sms='Smiley emoticon rocks!\\U0001f600 I like you.\\U0001f601'\n",
    "mensaje = re.findall('[\\U0001f600-\\U0001f650]', sms)\n",
    "print(mensaje)\n"
   ]
  },
  {
   "cell_type": "code",
   "execution_count": 13,
   "metadata": {
    "collapsed": false
   },
   "outputs": [
    {
     "name": "stdout",
     "output_type": "stream",
     "text": [
      "titanic.tar.gz descargado correctamente.\n"
     ]
    }
   ],
   "source": [
    "###Descarga de ficheros#########\n",
    "\n",
    "##Descargar y descomprimir el fichero .tar.gz de los casos del Titanic:\n",
    "## http://www.cs.toronto.edu/~delve/data/titanic/desc.html (investigar las librerías para hacerlo).\n",
    "from urllib.request import urlopen\n",
    "def main():\n",
    "    url = (\"ftp://ftp.cs.toronto.edu/pub/neuron/delve/data/tarfiles/titanic.tar.gz\")\n",
    "    # Archivo web\n",
    "    r = urlopen(url)\n",
    "    # Nombre del archivo a partir del URL\n",
    "    filename = url[url.rfind(\"/\") + 1:]\n",
    "    while not filename:\n",
    "        filename = raw_input(\"No se ha podido obtener el nombre del \"\n",
    "                             \"archivo.\\nEspecifique uno: \")\n",
    "        print (\"Descargando %s...\" % filename)\n",
    "    # Archivo local\n",
    "    f = open(filename, \"wb\")\n",
    "    # Escribir en un nuevo fichero local los datos obtenidos vía HTTP.\n",
    "    f.write(r.read())\n",
    "    # Cerrar ambos\n",
    "    f.close()\n",
    "    r.close()\n",
    "    print (\"%s descargado correctamente.\" % filename)\n",
    "if __name__ == \"__main__\":\n",
    "    main()\n",
    "#La función unpack_archive() del módulo shutil se emplea para desempaquetar o descomprimir un archivo zip, tar, etcétera.    \n",
    "import shutil\n",
    "shutil.unpack_archive('titanic.tar.gz')"
   ]
  },
  {
   "cell_type": "code",
   "execution_count": 19,
   "metadata": {
    "collapsed": false
   },
   "outputs": [
    {
     "ename": "ImportError",
     "evalue": "No module named 'wget'",
     "output_type": "error",
     "traceback": [
      "\u001b[0;31m---------------------------------------------------------------------------\u001b[0m",
      "\u001b[0;31mImportError\u001b[0m                               Traceback (most recent call last)",
      "\u001b[0;32m<ipython-input-19-f189924ba6d1>\u001b[0m in \u001b[0;36m<module>\u001b[0;34m()\u001b[0m\n\u001b[1;32m      1\u001b[0m \u001b[1;31m##Utilizando wget, descargar varios ficheros de los N-gramas de Google, teniendo las URL de los ficheros en una lista en Python.\u001b[0m\u001b[1;33m\u001b[0m\u001b[1;33m\u001b[0m\u001b[0m\n\u001b[0;32m----> 2\u001b[0;31m \u001b[1;32mimport\u001b[0m \u001b[0mwget\u001b[0m\u001b[1;33m\u001b[0m\u001b[0m\n\u001b[0m\u001b[1;32m      3\u001b[0m \u001b[0murls\u001b[0m \u001b[1;33m=\u001b[0m\u001b[1;33m[\u001b[0m\u001b[1;34m'http://storage.googleapis.com/books/ngrams/books/googlebooks-spa-all-1gram-20120701-1.gz'\u001b[0m\u001b[1;33m,\u001b[0m\u001b[1;34m'http://storage.googleapis.com/books/ngrams/books/googlebooks-spa-all-2gram-20120701-_ADJ_.gz'\u001b[0m\u001b[1;33m]\u001b[0m\u001b[1;33m\u001b[0m\u001b[0m\n\u001b[1;32m      4\u001b[0m \u001b[1;33m\u001b[0m\u001b[0m\n\u001b[1;32m      5\u001b[0m \u001b[0mfilename\u001b[0m \u001b[1;33m=\u001b[0m \u001b[0mwget\u001b[0m\u001b[1;33m.\u001b[0m\u001b[0mdownload\u001b[0m\u001b[1;33m(\u001b[0m\u001b[0murls\u001b[0m\u001b[1;33m)\u001b[0m\u001b[1;33m\u001b[0m\u001b[0m\n",
      "\u001b[0;31mImportError\u001b[0m: No module named 'wget'"
     ]
    }
   ],
   "source": [
    "##Utilizando wget, descargar varios ficheros de los N-gramas de Google, teniendo las URL de los ficheros en una lista en Python.\n",
    "import wget\n",
    "urls =['http://storage.googleapis.com/books/ngrams/books/googlebooks-spa-all-1gram-20120701-1.gz','http://storage.googleapis.com/books/ngrams/books/googlebooks-spa-all-2gram-20120701-_ADJ_.gz'] \n",
    "\n",
    "filename = wget.download(urls)\n",
    "\n",
    "print(filename.content[:200])\n",
    "##NO CONSIGO VER EL RESULTADO PORQUE PORQUE ME INDICA N¡QUE NO EXISTE EL MODULO"
   ]
  },
  {
   "cell_type": "code",
   "execution_count": 69,
   "metadata": {
    "collapsed": false
   },
   "outputs": [
    {
     "name": "stdout",
     "output_type": "stream",
     "text": [
      "The dir is: ['adobegc.log', 'avginfo.id', 'AvgSetup', 'chrome_installer.log', 'Crashpad', 'CreativeCloud', 'CR_01875.tmp', 'INS_591b5db9.TMP', 'INS_85b0a438.TMP', 'INS_d9d095eb.TMP', 'INS_e2295db6.TMP', 'MSI-20170115-1000.log', 'MSI-20170130-1748.log', 'MSI-20170130-1752.log', 'MSI-20170130-1755.log', 'MSI-20170130-1805.log', 'MSI-20170130-1826.log', 'MSI-20170130-2117.log', 'MSI-20170130-2132.log', 'MSI-20170130-2135.log', 'MSI-20170130-2150.log', 'MSI-20170130-2205.log', 'MSI-20170131-1832.log', 'MSI-20170131-1835.log', 'MSI-20170131-1838.log', 'MSI-20170131-1838a.log', 'MSI-20170131-1850.log', 'MSI-20170131-1920.log', 'MSI-20170131-1950.log', 'MSI-20170203-1512.log', 'MSI-20170203-1514.log', 'MSI-20170203-1514a.log', 'MSI-20170203-1527.log', 'MSI-20170203-1600.log', 'MSI-20170203-1627.log', 'MSI-20170203-1838.log', 'MSI-20170204-0855.log', 'MSI-20170204-0908.log', 'MSI-20170204-0938.log', 'MSI-20170204-1008.log', 'MSI-20170205-1652.log', 'MSI-20170205-1655.log', 'MSI-20170205-1655a.log', 'MSI-20170205-1707.log', 'MSI-20170205-1737.log', 'MSI-20170205-1807.log', 'MSI-20170205-1842.log', 'MSI-20170206-2102.log', 'MSI-20170206-2105.log', 'MSI-20170207-1906.log', 'MSI-20170207-1909.log', 'MSI-20170207-1909a.log', 'MSI-20170207-1921.log', 'MSI-20170207-1951.log', 'MSI-20170207-2021.log', 'MSI-20170208-1745.log', 'MSI-20170208-1748.log', 'MSI-20170208-1800.log', 'MSI-20170211-0832.log', 'MSI-20170211-0835.log', 'MSI-20170211-0835a.log', 'MSI-20170211-0847.log', 'MSI-20170211-0855.log', 'MSI-20170211-0900.log', 'MSI-20170211-0917.log', 'MSI-20170211-0947.log', 'MSI-20170211-1514.log', 'MSI-20170211-1655.log', 'MSI-20170211-1748.log', 'NVIDIA Corporation', 'NvidiaLogging', 'officeclicktorun.exe_streamserver(20170130215032D58).log', 'officeclicktorun.exe_streamserver(20170131183545D14).log', 'VulkanRT', 'WER8EB3.tmp.csv', 'WER8EC3.tmp.txt']\n"
     ]
    },
    {
     "ename": "PermissionError",
     "evalue": "[WinError 5] Acceso denegado: 'adobegc.log'",
     "output_type": "error",
     "traceback": [
      "\u001b[0;31m---------------------------------------------------------------------------\u001b[0m",
      "\u001b[0;31mPermissionError\u001b[0m                           Traceback (most recent call last)",
      "\u001b[0;32m<ipython-input-69-129ca1c2fcfa>\u001b[0m in \u001b[0;36m<module>\u001b[0;34m()\u001b[0m\n\u001b[1;32m      8\u001b[0m \u001b[1;33m\u001b[0m\u001b[0m\n\u001b[1;32m      9\u001b[0m \u001b[1;31m# removing\u001b[0m\u001b[1;33m\u001b[0m\u001b[1;33m\u001b[0m\u001b[0m\n\u001b[0;32m---> 10\u001b[0;31m \u001b[0mborrados\u001b[0m\u001b[1;33m=\u001b[0m\u001b[0mos\u001b[0m\u001b[1;33m.\u001b[0m\u001b[0mremove\u001b[0m\u001b[1;33m(\u001b[0m\u001b[1;34m'adobegc.log'\u001b[0m\u001b[1;33m)\u001b[0m\u001b[1;33m\u001b[0m\u001b[0m\n\u001b[0m\u001b[1;32m     11\u001b[0m \u001b[0mprint\u001b[0m\u001b[1;33m(\u001b[0m\u001b[0mborrados\u001b[0m\u001b[1;33m)\u001b[0m\u001b[1;33m\u001b[0m\u001b[0m\n\u001b[1;32m     12\u001b[0m \u001b[1;33m\u001b[0m\u001b[0m\n",
      "\u001b[0;31mPermissionError\u001b[0m: [WinError 5] Acceso denegado: 'adobegc.log'"
     ]
    }
   ],
   "source": [
    "####Manejo del sistema de ficheros###\n",
    "\n",
    "##Crear una función que tome una lista de ficheros y los borre del disco si los encuentra en una carpeta dada.\n",
    "import os, sys\n",
    "os.chdir('C:\\\\Windows\\\\Temp')\n",
    "# listing directories\n",
    "print (\"The dir is: %s\" %os.listdir(os.getcwd()))\n",
    "\n",
    "# removing\n",
    "borrados=os.remove('adobegc.log')\n",
    "print(borrados)\n",
    "\n"
   ]
  },
  {
   "cell_type": "code",
   "execution_count": 67,
   "metadata": {
    "collapsed": false
   },
   "outputs": [
    {
     "data": {
      "text/plain": [
       "'C:\\\\Windows\\\\Temp'"
      ]
     },
     "execution_count": 67,
     "metadata": {},
     "output_type": "execute_result"
    }
   ],
   "source": [
    "os.getcwd()\n",
    "\n",
    "\n"
   ]
  }
 ],
 "metadata": {
  "anaconda-cloud": {},
  "kernelspec": {
   "display_name": "Python [conda root]",
   "language": "python",
   "name": "conda-root-py"
  },
  "language_info": {
   "codemirror_mode": {
    "name": "ipython",
    "version": 3
   },
   "file_extension": ".py",
   "mimetype": "text/x-python",
   "name": "python",
   "nbconvert_exporter": "python",
   "pygments_lexer": "ipython3",
   "version": "3.5.2"
  }
 },
 "nbformat": 4,
 "nbformat_minor": 1
}
